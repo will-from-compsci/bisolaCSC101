{
 "cells": [
  {
   "cell_type": "code",
   "execution_count": 18,
   "metadata": {},
   "outputs": [
    {
     "name": "stdout",
     "output_type": "stream",
     "text": [
      "What is your name?Billy\n",
      "Get Out smileyface\n"
     ]
    }
   ],
   "source": [
    "# Project 1\n",
    "employees = [\"Andy\",\"Billy\",\"C\",\"D\",\"E\",\"F\",\"G\",\"H\",\"I\",\"J\",\"K\",\"L\",\"M\",\"N\",\"O\"]\n",
    "username = input(str(\"What is your name?\"))\n",
    "for employee in employees:\n",
    "    if username == employee:\n",
    "        print (\"Welcome\", username)\n",
    "        break\n",
    "    else:\n",
    "        print (\"Get Out smileyface\")\n",
    "        break\n",
    "    "
   ]
  },
  {
   "cell_type": "code",
   "execution_count": 40,
   "metadata": {},
   "outputs": [
    {
     "name": "stdout",
     "output_type": "stream",
     "text": [
      "Where are you delivering?Epe\n",
      "What is the package weight?\n",
      "13\n",
      "The fee is N5000\n"
     ]
    }
   ],
   "source": [
    "# Project 2\n",
    "location = input(str(\"Where are you delivering?\"))\n",
    "if location == \"PAU\":\n",
    "    print (\"What is the package weight?\")\n",
    "    weight = int(input())\n",
    "    if weight > 10:\n",
    "        print (\"The fee is N2000\")\n",
    "    elif weight == 10:\n",
    "        print (\"The fee is N2000\")\n",
    "    elif weight < 10:\n",
    "        print (\"The fee is N1500\")\n",
    "        \n",
    "elif location == \"Epe\":\n",
    "    print (\"What is the package weight?\")\n",
    "    weight = int(input())\n",
    "    if weight > 10:\n",
    "        print (\"The fee is N5000\")\n",
    "    elif weight == 10:\n",
    "        print (\"The fee is N5000\")\n",
    "    elif weight < 10:\n",
    "        print (\"The fee is N4000\")\n"
   ]
  },
  {
   "cell_type": "code",
   "execution_count": 42,
   "metadata": {},
   "outputs": [
    {
     "name": "stdout",
     "output_type": "stream",
     "text": [
      "What is their JAMB score?230\n",
      "How many credits do they have?5\n",
      "Did they pass the interview?Yes\n",
      "JAMB score is 230 or above.\n",
      "They have at least 5 credits.\n",
      "They passed the interview.\n",
      "They are accepted into Computer Science.\n"
     ]
    }
   ],
   "source": [
    "# Project 3\n",
    "points = 0\n",
    "jamb = int(input(\"What is their JAMB score?\"))\n",
    "credits = int(input(\"How many credits do they have?\"))\n",
    "interview = str(input(\"Did they pass the interview?\"))\n",
    "if jamb == 230:\n",
    "    print (\"JAMB score is 230 or above.\")\n",
    "    points +=1\n",
    "elif jamb > 230:\n",
    "    print (\"JAMB score is 230 or above.\")\n",
    "    points +=1\n",
    "else:\n",
    "    print (\"JAMB score is below 230.\")\n",
    "    \n",
    "if credits == 5:\n",
    "    print (\"They have at least 5 credits.\")\n",
    "    points +=1\n",
    "elif credits > 5:\n",
    "    print (\"They have at least 5 credits.\")\n",
    "    points +=1\n",
    "else:\n",
    "    print (\"They have less than 5 credits.\")\n",
    "\n",
    "if interview == \"Yes\":\n",
    "    print (\"They passed the interview.\")\n",
    "    points +=1\n",
    "else: \n",
    "    print (\"They did not pass the interview.\")\n",
    "    \n",
    "if points == 3:\n",
    "    print (\"They are accepted into Computer Science.\")\n",
    "else:\n",
    "    print (\"They are rejected from Computer Science.\")"
   ]
  },
  {
   "cell_type": "code",
   "execution_count": 1,
   "metadata": {},
   "outputs": [
    {
     "name": "stdout",
     "output_type": "stream",
     "text": [
      "What will Braviary do?Aerial Ace\n",
      "Braviary used Aerial Ace !\n",
      "It's super effective\n",
      "Gallade has 80 HP left!\n",
      "What will Gallade do?Rock Slide\n",
      "Gallade used Rock Slide\n",
      "It's super effective\n",
      "Braviary has 80 HP left!\n",
      "What will Braviary do?Hone Claws\n",
      "Braviary used Hone Claws !\n",
      "It had no effect\n",
      "Gallade has 80 HP left!\n",
      "What will Gallade do?Rock SLide\n",
      "Gallade used Rock Slide\n",
      "Braviary has 80 HP left!\n",
      "What will Braviary do?Slash\n",
      "Braviary used Slash !\n",
      "It's effective\n",
      "Gallade has 40 HP left!\n"
     ]
    }
   ],
   "source": [
    "# Project 4\n",
    "KOs = 0\n",
    "hp_g = 150\n",
    "hp_b = 150\n",
    "# in a match between a level 30 braviary and gallade\n",
    "# Braviary's moves are Aerial Ace, Close Combat, Slash, Hone Claws\n",
    "# Gallade's moves are Slash, Psychic, Rock Slide, Double Team\n",
    "move1 = str(input(\"What will Braviary do?\"))\n",
    "print (\"Braviary used\", move1,\"!\")\n",
    "if move1 == \"Aerial Ace\":\n",
    "    print (\"It's super effective\")\n",
    "    hp_g -= 70\n",
    "elif move1 == \"Close Combat\":\n",
    "    print (\"It's not very effective\")\n",
    "    hp_g -= 20\n",
    "elif move1 == \"Slash\":\n",
    "    print (\"It's effective\")\n",
    "    hp_g -= 40\n",
    "elif move1 == \"Hone Claws\":\n",
    "    print (\"It had no effect\")\n",
    "print (\"Gallade has\", hp_g, \"HP left!\")\n",
    "\n",
    "move2 = str(input(\"What will Gallade do?\"))\n",
    "print (\"Gallade used\", move2)\n",
    "if move2 == \"Rock Slide\":\n",
    "    print (\"It's super effective\")\n",
    "    hp_b -= 70\n",
    "elif move2 == \"Psychic\":\n",
    "    print (\"It's not very effective\")\n",
    "    hp_b -= 20\n",
    "elif move2 == \"Slash\":\n",
    "    print (\"It's effective\")\n",
    "    hp_b -= 40\n",
    "elif move2 == \"Double Team\":\n",
    "    print (\"It had no effect\")\n",
    "print (\"Braviary has\", hp_b, \"HP left!\")\n",
    "\n",
    "move3 = str(input(\"What will Braviary do?\"))\n",
    "print (\"Braviary used\", move3,\"!\")\n",
    "if move3 == \"Aerial Ace\":\n",
    "    print (\"It's super effective\")\n",
    "    hp_g -= 70\n",
    "elif move3 == \"Close Combat\":\n",
    "    print (\"It's not very effective\")\n",
    "    hp_g -= 20\n",
    "elif move3 == \"Slash\":\n",
    "    print (\"It's effective\")\n",
    "    hp_g -= 40\n",
    "elif move3 == \"Hone Claws\":\n",
    "    print (\"It had no effect\")\n",
    "print (\"Gallade has\", hp_g, \"HP left!\")\n",
    "\n",
    "move4 = str(input(\"What will Gallade do?\"))\n",
    "print (\"Gallade used\", move2)\n",
    "if move4 == \"Rock Slide\":\n",
    "    print (\"It's super effective\")\n",
    "    hp_b -= 70\n",
    "elif move4 == \"Psychic\":\n",
    "    print (\"It's not very effective\")\n",
    "    hp_b -= 20\n",
    "elif move4 == \"Slash\":\n",
    "    print (\"It's effective\")\n",
    "    hp_b -= 40\n",
    "elif move4 == \"Double Team\":\n",
    "    print (\"It had no effect\")\n",
    "print (\"Braviary has\", hp_b, \"HP left!\")\n",
    "\n",
    "move5 = str(input(\"What will Braviary do?\"))\n",
    "print (\"Braviary used\", move5,\"!\")\n",
    "if move5 == \"Aerial Ace\":\n",
    "    print (\"It's super effective\")\n",
    "    hp_g -= 70\n",
    "elif move5 == \"Close Combat\":\n",
    "    print (\"It's not very effective\")\n",
    "    hp_g -= 20\n",
    "elif move5 == \"Slash\":\n",
    "    print (\"It's effective\")\n",
    "    hp_g -= 40\n",
    "elif move5 == \"Hone Claws\":\n",
    "    print (\"It had no effect\")\n",
    "print (\"Gallade has\", hp_g, \"HP left!\")\n",
    "\n",
    "if hp_g == 0:\n",
    "    print (\"Gallade fainted!\")\n",
    "if hp_b == 0:\n",
    "    print (\"Braviary fainted!\")"
   ]
  },
  {
   "cell_type": "code",
   "execution_count": null,
   "metadata": {},
   "outputs": [],
   "source": []
  }
 ],
 "metadata": {
  "kernelspec": {
   "display_name": "Python 3",
   "language": "python",
   "name": "python3"
  },
  "language_info": {
   "codemirror_mode": {
    "name": "ipython",
    "version": 3
   },
   "file_extension": ".py",
   "mimetype": "text/x-python",
   "name": "python",
   "nbconvert_exporter": "python",
   "pygments_lexer": "ipython3",
   "version": "3.8.5"
  }
 },
 "nbformat": 4,
 "nbformat_minor": 4
}
