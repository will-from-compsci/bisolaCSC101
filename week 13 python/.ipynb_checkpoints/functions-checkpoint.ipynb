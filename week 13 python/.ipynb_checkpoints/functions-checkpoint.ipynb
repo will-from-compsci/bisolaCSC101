{
 "cells": [
  {
   "cell_type": "code",
   "execution_count": null,
   "metadata": {},
   "outputs": [],
   "source": [
    "# exercise 1\n",
    "def printme( str ):\n",
    "    print (str);\n",
    "    return;\n",
    "\n",
    "printme(\"I'm the first call to user defined function!\")\n",
    "printme(\"Again second call to the same function\")"
   ]
  },
  {
   "cell_type": "code",
   "execution_count": 2,
   "metadata": {},
   "outputs": [
    {
     "name": "stdout",
     "output_type": "stream",
     "text": [
      "Values inside the function:  [10, 20, 30, [1, 2, 3, 4]]\n",
      "Values outside the function:  [10, 20, 30, [1, 2, 3, 4]]\n"
     ]
    }
   ],
   "source": [
    "# exercise 2\n",
    "def changeme( mylist ):\n",
    "    mylist.append([1,2,3,4])\n",
    "    print (\"Values inside the function: \", mylist)\n",
    "    return\n",
    "mylist = [10,20,30]\n",
    "changeme( mylist )\n",
    "print (\"Values outside the function: \", mylist)"
   ]
  },
  {
   "cell_type": "code",
   "execution_count": 3,
   "metadata": {},
   "outputs": [
    {
     "name": "stdout",
     "output_type": "stream",
     "text": [
      "Values inside the function:  [1, 2, 3, 4]\n",
      "Values outside the function:  [10, 20, 30]\n"
     ]
    }
   ],
   "source": [
    "# exercise 3\n",
    "def changeme( mylist ):\n",
    "    mylist = [1,2,3,4];\n",
    "    print (\"Values inside the function: \", mylist)\n",
    "    return\n",
    "mylist = [10,20,30];\n",
    "changeme( mylist );\n",
    "print (\"Values outside the function: \", mylist)"
   ]
  },
  {
   "cell_type": "code",
   "execution_count": 4,
   "metadata": {},
   "outputs": [
    {
     "ename": "TypeError",
     "evalue": "printme() missing 1 required positional argument: 'str'",
     "output_type": "error",
     "traceback": [
      "\u001b[1;31m---------------------------------------------------------------------------\u001b[0m",
      "\u001b[1;31mTypeError\u001b[0m                                 Traceback (most recent call last)",
      "\u001b[1;32m<ipython-input-4-9ab65fa11f6f>\u001b[0m in \u001b[0;36m<module>\u001b[1;34m\u001b[0m\n\u001b[0;32m      3\u001b[0m     \u001b[0mprint\u001b[0m \u001b[1;33m(\u001b[0m\u001b[0mstr\u001b[0m\u001b[1;33m)\u001b[0m\u001b[1;33m;\u001b[0m\u001b[1;33m\u001b[0m\u001b[1;33m\u001b[0m\u001b[0m\n\u001b[0;32m      4\u001b[0m     \u001b[1;32mreturn\u001b[0m\u001b[1;33m;\u001b[0m\u001b[1;33m\u001b[0m\u001b[1;33m\u001b[0m\u001b[0m\n\u001b[1;32m----> 5\u001b[1;33m \u001b[0mprintme\u001b[0m\u001b[1;33m(\u001b[0m\u001b[1;33m)\u001b[0m\u001b[1;33m;\u001b[0m\u001b[1;33m\u001b[0m\u001b[1;33m\u001b[0m\u001b[0m\n\u001b[0m",
      "\u001b[1;31mTypeError\u001b[0m: printme() missing 1 required positional argument: 'str'"
     ]
    }
   ],
   "source": [
    "# exercise 4\n",
    "def printme( str ):\n",
    "    print (str);\n",
    "    return;\n",
    "printme();"
   ]
  },
  {
   "cell_type": "code",
   "execution_count": 5,
   "metadata": {},
   "outputs": [
    {
     "name": "stdout",
     "output_type": "stream",
     "text": [
      "My string\n"
     ]
    }
   ],
   "source": [
    "# exercise 4\n",
    "def printme( str ):\n",
    "    print (str);\n",
    "    return;\n",
    "printme( str = \"My string\");"
   ]
  },
  {
   "cell_type": "code",
   "execution_count": 6,
   "metadata": {},
   "outputs": [
    {
     "name": "stdout",
     "output_type": "stream",
     "text": [
      "Name:  mitski\n",
      "Age:  50\n"
     ]
    }
   ],
   "source": [
    "# exercise 5\n",
    "def printinfo( name, age ):\n",
    "    print (\"Name: \", name);\n",
    "    print (\"Age: \", age);\n",
    "    return;\n",
    "printinfo( age = 50, name = \"mitski\" );"
   ]
  },
  {
   "cell_type": "code",
   "execution_count": 7,
   "metadata": {},
   "outputs": [
    {
     "name": "stdout",
     "output_type": "stream",
     "text": [
      "Name:  mitski\n",
      "Age:  50\n",
      "Name:  mitski\n",
      "Age:  35\n"
     ]
    }
   ],
   "source": [
    "# exercise 6\n",
    "def printinfo( name, age = 35 ):\n",
    "    print (\"Name: \", name);\n",
    "    print (\"Age: \", age);\n",
    "    return;\n",
    "printinfo( age = 50, name = \"mitski\" );\n",
    "printinfo( name = \"mitski\" );"
   ]
  },
  {
   "cell_type": "code",
   "execution_count": 7,
   "metadata": {},
   "outputs": [
    {
     "name": "stdout",
     "output_type": "stream",
     "text": [
      "Output is: \n",
      "10\n",
      "Output is: \n",
      "70\n",
      "60\n"
     ]
    }
   ],
   "source": [
    "# exercise 7\n",
    "def printinfo( arg1, *vartuple ):\n",
    "    print (\"Output is: \")\n",
    "    print (arg1)\n",
    "    for var in vartuple:\n",
    "        print (var)\n",
    "        return;\n",
    "printinfo( 10 );\n",
    "printinfo( 70, 60, 50 );"
   ]
  },
  {
   "cell_type": "code",
   "execution_count": 9,
   "metadata": {},
   "outputs": [
    {
     "name": "stdout",
     "output_type": "stream",
     "text": [
      "Value of total :  30\n",
      "Value of total :  40\n"
     ]
    }
   ],
   "source": [
    "# exercise 8\n",
    "sum = lambda arg1, arg2: arg1 + arg2;\n",
    "print (\"Value of total : \", sum( 10, 20))\n",
    "print (\"Value of total : \", sum( 20, 20))"
   ]
  },
  {
   "cell_type": "code",
   "execution_count": 10,
   "metadata": {},
   "outputs": [
    {
     "name": "stdout",
     "output_type": "stream",
     "text": [
      "Inside the function local total :  30\n",
      "Outside the function global total :  50\n"
     ]
    }
   ],
   "source": [
    "# exercise 9\n",
    "total = 50;\n",
    "def sum( arg1, arg2 ):\n",
    "    total = arg1 + arg2;\n",
    "    print (\"Inside the function local total : \", total)\n",
    "    return total;\n",
    "sum( 10,20 );\n",
    "print (\"Outside the function global total : \", total)"
   ]
  },
  {
   "cell_type": "code",
   "execution_count": 1,
   "metadata": {},
   "outputs": [
    {
     "name": "stdout",
     "output_type": "stream",
     "text": [
      "What is your name?C\n",
      "Welcome C\n"
     ]
    }
   ],
   "source": [
    "# project 1\n",
    "employees = \"Andy\",\"Billy\",\"C\",\"D\",\"E\",\"F\",\"G\",\"H\",\"I\",\"J\",\"K\",\"L\",\"M\",\"N\",\"O\"\n",
    "username = input(str(\"What is your name?\"))\n",
    "def verify(employee):\n",
    "    employed = False\n",
    "    if username in employee:\n",
    "        employed = True\n",
    "    if employed == True:\n",
    "        print (\"Welcome\", username)\n",
    "    else:\n",
    "        print (\"Get Out smileyface\")\n",
    "    return\n",
    "verify(username)"
   ]
  },
  {
   "cell_type": "code",
   "execution_count": 4,
   "metadata": {},
   "outputs": [
    {
     "name": "stdout",
     "output_type": "stream",
     "text": [
      "What is the package weight?20\n",
      "Where are you delivering?PAU\n",
      "The fee is N2000\n"
     ]
    }
   ],
   "source": [
    "# project 2\n",
    "def verify(weight,location):\n",
    "    if location == \"PAU\":\n",
    "        if weight > 10:\n",
    "            print (\"The fee is N2000\")\n",
    "        elif weight == 10:\n",
    "            print (\"The fee is N2000\")\n",
    "        elif weight < 10:\n",
    "            print (\"The fee is N1500\")\n",
    "    \n",
    "    elif location == \"Epe\":\n",
    "        print (\"What is the package weight?\")\n",
    "        if weight > 10:\n",
    "            print (\"The fee is N5000\")\n",
    "        elif weight == 10:\n",
    "            print (\"The fee is N5000\")\n",
    "        elif weight < 10:\n",
    "            print (\"The fee is N4000\")  \n",
    "        return\n",
    "verify(weight = int(input(\"What is the package weight?\")),location = input(str(\"Where are you delivering?\")))"
   ]
  },
  {
   "cell_type": "code",
   "execution_count": 5,
   "metadata": {},
   "outputs": [
    {
     "name": "stdout",
     "output_type": "stream",
     "text": [
      "What is their JAMB score?230\n",
      "How many credits do they have?7\n",
      "Did they pass the interview?No\n",
      "JAMB score is 230 or above.\n",
      "They have at least 5 credits.\n",
      "They did not pass the interview.\n",
      "They are rejected from Computer Science.\n"
     ]
    }
   ],
   "source": [
    "# project 3\n",
    "def verify(jamb,credits,interview):\n",
    "    points = 0\n",
    "    if jamb == 230:\n",
    "        print (\"JAMB score is 230 or above.\")\n",
    "        points +=1\n",
    "    elif jamb > 230:\n",
    "        print (\"JAMB score is 230 or above.\")\n",
    "        points +=1\n",
    "    else:\n",
    "        print (\"JAMB score is below 230.\")\n",
    "\n",
    "    if credits == 5:\n",
    "        print (\"They have at least 5 credits.\")\n",
    "        points +=1\n",
    "    elif credits > 5:\n",
    "        print (\"They have at least 5 credits.\")\n",
    "        points +=1\n",
    "    else:\n",
    "        print (\"They have less than 5 credits.\")\n",
    "\n",
    "    if interview == \"Yes\":\n",
    "        print (\"They passed the interview.\")\n",
    "        points +=1\n",
    "    else: \n",
    "        print (\"They did not pass the interview.\")\n",
    "        \n",
    "    if points == 3:\n",
    "        print (\"They are accepted into Computer Science.\")\n",
    "    else:\n",
    "        print (\"They are rejected from Computer Science.\")\n",
    "    return\n",
    "verify(jamb = int(input(\"What is their JAMB score?\")),credits = int(input(\"How many credits do they have?\")),interview = str(input(\"Did they pass the interview?\")))"
   ]
  },
  {
   "cell_type": "code",
   "execution_count": 6,
   "metadata": {},
   "outputs": [
    {
     "name": "stdout",
     "output_type": "stream",
     "text": [
      "What will Braviary do?Aerial Ace\n",
      "Braviary used Aerial Ace\n",
      "It's super effective\n",
      "Gallade has 80 HP left!\n",
      "What will Gallade do?Rock Slide\n",
      "Gallade used Rock Slide\n",
      "It's super effective\n",
      "Braviary has 80 HP left!\n",
      "What will Braviary do?Aerial Ace\n",
      "Braviary used Aerial Ace\n",
      "It's super effective\n",
      "Gallade has 80 HP left!\n",
      "What will Gallade do?Hone Claws\n",
      "Gallade used Hone Claws\n",
      "What will Braviary do?hone Claws\n",
      "Braviary used hone Claws\n",
      "What will Gallade do?Rock Slide\n",
      "Gallade used Rock Slide\n",
      "It's super effective\n",
      "Braviary has 80 HP left!\n"
     ]
    },
    {
     "ename": "KeyboardInterrupt",
     "evalue": "Interrupted by user",
     "output_type": "error",
     "traceback": [
      "\u001b[1;31m---------------------------------------------------------------------------\u001b[0m",
      "\u001b[1;31mKeyboardInterrupt\u001b[0m                         Traceback (most recent call last)",
      "\u001b[1;32m<ipython-input-6-7517e3327d6d>\u001b[0m in \u001b[0;36m<module>\u001b[1;34m\u001b[0m\n\u001b[0;32m     49\u001b[0m \u001b[1;33m\u001b[0m\u001b[0m\n\u001b[0;32m     50\u001b[0m \u001b[1;32mwhile\u001b[0m \u001b[0mcheck_hp\u001b[0m\u001b[1;33m:\u001b[0m\u001b[1;33m\u001b[0m\u001b[1;33m\u001b[0m\u001b[0m\n\u001b[1;32m---> 51\u001b[1;33m     \u001b[0mmoveb\u001b[0m\u001b[1;33m(\u001b[0m\u001b[0mmoveb\u001b[0m \u001b[1;33m=\u001b[0m \u001b[0mstr\u001b[0m\u001b[1;33m(\u001b[0m\u001b[0minput\u001b[0m\u001b[1;33m(\u001b[0m\u001b[1;34m\"What will Braviary do?\"\u001b[0m\u001b[1;33m)\u001b[0m\u001b[1;33m)\u001b[0m\u001b[1;33m)\u001b[0m\u001b[1;33m\u001b[0m\u001b[1;33m\u001b[0m\u001b[0m\n\u001b[0m\u001b[0;32m     52\u001b[0m     \u001b[0mmoveg\u001b[0m\u001b[1;33m(\u001b[0m\u001b[0mmoveg\u001b[0m \u001b[1;33m=\u001b[0m \u001b[0mstr\u001b[0m\u001b[1;33m(\u001b[0m\u001b[0minput\u001b[0m\u001b[1;33m(\u001b[0m\u001b[1;34m\"What will Gallade do?\"\u001b[0m\u001b[1;33m)\u001b[0m\u001b[1;33m)\u001b[0m\u001b[1;33m)\u001b[0m\u001b[1;33m\u001b[0m\u001b[1;33m\u001b[0m\u001b[0m\n",
      "\u001b[1;32m~\\anaconda3\\lib\\site-packages\\ipykernel\\kernelbase.py\u001b[0m in \u001b[0;36mraw_input\u001b[1;34m(self, prompt)\u001b[0m\n\u001b[0;32m    858\u001b[0m                 \u001b[1;34m\"raw_input was called, but this frontend does not support input requests.\"\u001b[0m\u001b[1;33m\u001b[0m\u001b[1;33m\u001b[0m\u001b[0m\n\u001b[0;32m    859\u001b[0m             )\n\u001b[1;32m--> 860\u001b[1;33m         return self._input_request(str(prompt),\n\u001b[0m\u001b[0;32m    861\u001b[0m             \u001b[0mself\u001b[0m\u001b[1;33m.\u001b[0m\u001b[0m_parent_ident\u001b[0m\u001b[1;33m,\u001b[0m\u001b[1;33m\u001b[0m\u001b[1;33m\u001b[0m\u001b[0m\n\u001b[0;32m    862\u001b[0m             \u001b[0mself\u001b[0m\u001b[1;33m.\u001b[0m\u001b[0m_parent_header\u001b[0m\u001b[1;33m,\u001b[0m\u001b[1;33m\u001b[0m\u001b[1;33m\u001b[0m\u001b[0m\n",
      "\u001b[1;32m~\\anaconda3\\lib\\site-packages\\ipykernel\\kernelbase.py\u001b[0m in \u001b[0;36m_input_request\u001b[1;34m(self, prompt, ident, parent, password)\u001b[0m\n\u001b[0;32m    902\u001b[0m             \u001b[1;32mexcept\u001b[0m \u001b[0mKeyboardInterrupt\u001b[0m\u001b[1;33m:\u001b[0m\u001b[1;33m\u001b[0m\u001b[1;33m\u001b[0m\u001b[0m\n\u001b[0;32m    903\u001b[0m                 \u001b[1;31m# re-raise KeyboardInterrupt, to truncate traceback\u001b[0m\u001b[1;33m\u001b[0m\u001b[1;33m\u001b[0m\u001b[1;33m\u001b[0m\u001b[0m\n\u001b[1;32m--> 904\u001b[1;33m                 \u001b[1;32mraise\u001b[0m \u001b[0mKeyboardInterrupt\u001b[0m\u001b[1;33m(\u001b[0m\u001b[1;34m\"Interrupted by user\"\u001b[0m\u001b[1;33m)\u001b[0m \u001b[1;32mfrom\u001b[0m \u001b[1;32mNone\u001b[0m\u001b[1;33m\u001b[0m\u001b[1;33m\u001b[0m\u001b[0m\n\u001b[0m\u001b[0;32m    905\u001b[0m             \u001b[1;32mexcept\u001b[0m \u001b[0mException\u001b[0m \u001b[1;32mas\u001b[0m \u001b[0me\u001b[0m\u001b[1;33m:\u001b[0m\u001b[1;33m\u001b[0m\u001b[1;33m\u001b[0m\u001b[0m\n\u001b[0;32m    906\u001b[0m                 \u001b[0mself\u001b[0m\u001b[1;33m.\u001b[0m\u001b[0mlog\u001b[0m\u001b[1;33m.\u001b[0m\u001b[0mwarning\u001b[0m\u001b[1;33m(\u001b[0m\u001b[1;34m\"Invalid Message:\"\u001b[0m\u001b[1;33m,\u001b[0m \u001b[0mexc_info\u001b[0m\u001b[1;33m=\u001b[0m\u001b[1;32mTrue\u001b[0m\u001b[1;33m)\u001b[0m\u001b[1;33m\u001b[0m\u001b[1;33m\u001b[0m\u001b[0m\n",
      "\u001b[1;31mKeyboardInterrupt\u001b[0m: Interrupted by user"
     ]
    }
   ],
   "source": [
    "# project 4\n",
    "# in a match between a level 30 braviary and gallade\n",
    "# Braviary's moves are Aerial Ace, Close Combat, Slash, Hone Claws\n",
    "# Gallade's moves are Slash, Psychic, Rock Slide, Double Team\n",
    "def moveb(moveb):\n",
    "    hp_g = 150\n",
    "    print (\"Braviary used\", moveb)\n",
    "    if moveb == \"Aerial Ace\":\n",
    "        print (\"It's super effective\")\n",
    "        hp_g -= 70\n",
    "        print (\"Gallade has\", hp_g, \"HP left!\")\n",
    "    elif moveb == \"Close Combat\":\n",
    "        print (\"It's not very effective\")\n",
    "        hp_g -= 20\n",
    "        print (\"Gallade has\", hp_g, \"HP left!\")\n",
    "    elif moveb == \"Slash\":\n",
    "        print (\"It's effective\")\n",
    "        hp_g -= 40\n",
    "        print (\"Gallade has\", hp_g, \"HP left!\")\n",
    "    elif moveb == \"Hone Claws\":\n",
    "        print (\"It had no effect\")\n",
    "        print (\"Gallade has\", hp_g, \"HP left!\")\n",
    "\n",
    "def moveg(moveg):\n",
    "    hp_b = 150\n",
    "    print (\"Gallade used\", moveg)\n",
    "    if moveg == \"Rock Slide\":\n",
    "        print (\"It's super effective\")\n",
    "        hp_b -= 70\n",
    "        print (\"Braviary has\", hp_b, \"HP left!\")\n",
    "    elif moveg == \"Psychic\":\n",
    "        print (\"It's not very effective\")\n",
    "        hp_b -= 20\n",
    "        print (\"Braviary has\", hp_b, \"HP left!\")\n",
    "    elif moveg == \"Slash\":\n",
    "        print (\"It's effective\")\n",
    "        hp_b -= 40\n",
    "        print (\"Braviary has\", hp_b, \"HP left!\")\n",
    "    elif moveg == \"Double Team\":\n",
    "        print (\"It had no effect\")\n",
    "        print (\"Braviary has\", hp_b, \"HP left!\")\n",
    "\n",
    "\n",
    "def check_hp(hp_g,hp_b):\n",
    "    if hp_b <= 0:\n",
    "        print (\"Braviary fainted!\")\n",
    "    if hp_g <= 0:\n",
    "        print (\"Gallade fainted!\")\n",
    "\n",
    "while check_hp:\n",
    "    moveb(moveb = str(input(\"What will Braviary do?\"))) \n",
    "    moveg(moveg = str(input(\"What will Gallade do?\")))"
   ]
  },
  {
   "cell_type": "code",
   "execution_count": null,
   "metadata": {},
   "outputs": [],
   "source": []
  }
 ],
 "metadata": {
  "kernelspec": {
   "display_name": "Python 3",
   "language": "python",
   "name": "python3"
  },
  "language_info": {
   "codemirror_mode": {
    "name": "ipython",
    "version": 3
   },
   "file_extension": ".py",
   "mimetype": "text/x-python",
   "name": "python",
   "nbconvert_exporter": "python",
   "pygments_lexer": "ipython3",
   "version": "3.8.5"
  }
 },
 "nbformat": 4,
 "nbformat_minor": 4
}
