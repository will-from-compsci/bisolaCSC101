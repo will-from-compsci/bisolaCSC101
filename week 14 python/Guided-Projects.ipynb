{
 "cells": [
  {
   "cell_type": "code",
   "execution_count": 41,
   "metadata": {},
   "outputs": [
    {
     "name": "stdout",
     "output_type": "stream",
     "text": [
      "The syntax of a quadratic equation is ax^2 + bx + c = 0\n",
      "What is 'a'?1\n",
      "What is 'b'?-4\n",
      "What is 'c'?4\n",
      "The first root is 2.0\n",
      "The second root is 2.0\n"
     ]
    }
   ],
   "source": [
    "# Project 1\n",
    "print (\"The syntax of a quadratic equation is ax^2 + bx + c = 0\")\n",
    "a = int(input(\"What is 'a'?\"))\n",
    "b = int(input(\"What is 'b'?\"))\n",
    "c = int(input(\"What is 'c'?\"))\n",
    "root1 = ((b*(-1)) + ((b**2) - (4*a*c))**(1/2))/(2/a)\n",
    "root2 = ((b*(-1)) - ((b**2) - (4*a*c))**(1/2))/(2/a)\n",
    "\n",
    "def roots(root1,root2):\n",
    "    print (\"The first root is\", root1)\n",
    "    print (\"The second root is\", root2)\n",
    "    return\n",
    "roots(root1,root2)"
   ]
  },
  {
   "cell_type": "code",
   "execution_count": 42,
   "metadata": {},
   "outputs": [
    {
     "name": "stdout",
     "output_type": "stream",
     "text": [
      "Input the student's nameOne\n",
      "The student, One ,is in class\n"
     ]
    }
   ],
   "source": [
    "# Project 2\n",
    "students = [\"One\",\"Two\",\"Three\",\"Four\",\"Five\",\"Six\",\"Seven\",\"Eight\",\"Nine\",\"Ten\"]\n",
    "def attendance(name):\n",
    "    present = False\n",
    "    if name in students:\n",
    "        present = True\n",
    "    if present == True:\n",
    "        print(\"The student,\",name,\",is in class\")\n",
    "    else:\n",
    "        print(\"The student,\",name,\",is not in class\")\n",
    "    return   \n",
    "attendance(name = str(input(\"Input the student's name\")))"
   ]
  },
  {
   "cell_type": "code",
   "execution_count": 47,
   "metadata": {},
   "outputs": [
    {
     "name": "stdout",
     "output_type": "stream",
     "text": [
      "What is the students name?Red\n",
      "54\n"
     ]
    }
   ],
   "source": [
    "# Project 3\n",
    "records = {\"Ty\":87,\"Leah\":92,\"Red\":54,\"Four\":54,\"Five\":54,\"Six\":54,\"Seven\":54,\"Eight\":54,\"Nine\":54,\"Ten\":54,\"Eleven\":54,\"Twelve\":54,\"Thirt\":54,\"Fourt\":54,\"Fift\":54}\n",
    "def check(student):\n",
    "    print(records[student])\n",
    "    return\n",
    "check (student = str(input(\"What is the students name?\")))"
   ]
  },
  {
   "cell_type": "code",
   "execution_count": 44,
   "metadata": {},
   "outputs": [
    {
     "name": "stdout",
     "output_type": "stream",
     "text": [
      "The system's password is?Password\n",
      "What is the password??Password\n",
      "Password\n",
      "System unlocked. Welcome!\n"
     ]
    }
   ],
   "source": [
    "# Project 4\n",
    "system_password = str(input(\"The system's password is?\"))\n",
    "def verify(user_password):\n",
    "    if user_password == system_password:\n",
    "        print (user_password)\n",
    "        print (\"System unlocked. Welcome!\")\n",
    "        return\n",
    "    else:\n",
    "        print (user_password)\n",
    "        print (\"Wrong password. Try again\")\n",
    "        verify(user_password = str(input(\"What is the password??\")))\n",
    "verify(user_password = str(input(\"What is the password??\")))"
   ]
  },
  {
   "cell_type": "code",
   "execution_count": null,
   "metadata": {},
   "outputs": [],
   "source": []
  }
 ],
 "metadata": {
  "kernelspec": {
   "display_name": "Python 3",
   "language": "python",
   "name": "python3"
  },
  "language_info": {
   "codemirror_mode": {
    "name": "ipython",
    "version": 3
   },
   "file_extension": ".py",
   "mimetype": "text/x-python",
   "name": "python",
   "nbconvert_exporter": "python",
   "pygments_lexer": "ipython3",
   "version": "3.8.5"
  }
 },
 "nbformat": 4,
 "nbformat_minor": 4
}
