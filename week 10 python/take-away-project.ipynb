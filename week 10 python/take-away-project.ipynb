{
 "cells": [
  {
   "cell_type": "code",
   "execution_count": 5,
   "metadata": {},
   "outputs": [
    {
     "name": "stdout",
     "output_type": "stream",
     "text": [
      "Input the Principal5000\n",
      "Input the Rate0.05\n",
      "Input the Time4\n",
      "Input the value of n12\n",
      "Amount is 5000.0\n",
      "Compound interest is 0.0\n"
     ]
    }
   ],
   "source": [
    "# Python program for Compound Interest\n",
    "P = int(input('Input the Principal'))\n",
    "R = float(input('Input the Annual rate in decimals'))\n",
    "T = int(input('Input the Time'))\n",
    "n = int(input('Input the number of compounding periods'))\n",
    "\n",
    "A = (P *(1 + (R/n)**(n*T)))\n",
    "print(\"Amount is\", A)\n",
    "\n",
    "CI = A - P\n",
    "print(\"Compound interest is\", CI)"
   ]
  },
  {
   "cell_type": "code",
   "execution_count": 5,
   "metadata": {},
   "outputs": [
    {
     "name": "stdout",
     "output_type": "stream",
     "text": [
      "Input the Regular deposit600000\n",
      "Input the Annual rate in decimals0.05\n",
      "Input the Time5\n",
      "Input the number of compounding periods12\n",
      "Annuity is 184803409.7045057\n"
     ]
    }
   ],
   "source": [
    "# Python program for Annuity Plan\n",
    "PMT = int(input('Input the Regular deposit'))\n",
    "R = float(input('Input the Annual rate in decimals'))\n",
    "t = int(input('Input the Time'))\n",
    "n = int(input('Input the number of compounding periods'))\n",
    "\n",
    "A = (PMT*((1 + (R/n))**(n*t)) - 1)/(R/n)\n",
    "print (\"Annuity is\", A)"
   ]
  },
  {
   "cell_type": "code",
   "execution_count": null,
   "metadata": {},
   "outputs": [],
   "source": []
  }
 ],
 "metadata": {
  "kernelspec": {
   "display_name": "Python 3",
   "language": "python",
   "name": "python3"
  },
  "language_info": {
   "codemirror_mode": {
    "name": "ipython",
    "version": 3
   },
   "file_extension": ".py",
   "mimetype": "text/x-python",
   "name": "python",
   "nbconvert_exporter": "python",
   "pygments_lexer": "ipython3",
   "version": "3.8.5"
  }
 },
 "nbformat": 4,
 "nbformat_minor": 4
}
