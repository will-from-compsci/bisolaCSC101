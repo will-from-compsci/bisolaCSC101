{
 "cells": [
  {
   "cell_type": "code",
   "execution_count": 1,
   "metadata": {},
   "outputs": [
    {
     "name": "stdout",
     "output_type": "stream",
     "text": [
      "100\n",
      "Data Type of variable num is <class 'int'>\n",
      "34.45\n",
      "Data Type of variable fnum is <class 'float'>\n",
      "(3+4j)\n",
      "Data Type of variable cnum is <class 'complex'>\n"
     ]
    }
   ],
   "source": [
    "# Numeric Data Types in Python\n",
    "\n",
    "# integer number\n",
    "num = 100\n",
    "print(num)\n",
    "print (\"Data Type of variable num is\", type(num))\n",
    "\n",
    "# float number\n",
    "fnum = 34.45\n",
    "print(fnum)\n",
    "print(\"Data Type of variable fnum is\", type(fnum))\n",
    "\n",
    "# complex number\n",
    "cnum = 3 + 4j\n",
    "print(cnum)\n",
    "print(\"Data Type of variable cnum is\", type(cnum))"
   ]
  },
  {
   "cell_type": "code",
   "execution_count": 2,
   "metadata": {},
   "outputs": [
    {
     "name": "stdout",
     "output_type": "stream",
     "text": [
      "Hi my name is Matthew. I am a String\n",
      "<class 'str'>\n",
      "Hi my name is Precious. I am also a String\n",
      "<class 'str'>\n"
     ]
    }
   ],
   "source": [
    "#Python Data Type - String\n",
    "\n",
    "# Python program to print strings and type\n",
    "str1 = \"Hi my name is Matthew. I am a String\"\n",
    "str2 = 'Hi my name is Precious. I am also a String'\n",
    "\n",
    "#displaying string str1 and its type\n",
    "print(str1)\n",
    "print(type(str1))\n",
    "\n",
    "#displaying string str2 and its type\n",
    "print(str2)\n",
    "print(type(str2))"
   ]
  },
  {
   "cell_type": "code",
   "execution_count": 6,
   "metadata": {},
   "outputs": [
    {
     "name": "stdout",
     "output_type": "stream",
     "text": [
      "(1, 2, 3, 4, 5)\n",
      "Nifemi\n",
      "Gina\n",
      "Marho\n",
      "45\n"
     ]
    }
   ],
   "source": [
    "# Python Data Type - Tuple\n",
    "\n",
    "# tuple of integers\n",
    "t1 = (1, 2, 3, 4, 5)\n",
    "\n",
    "# prints entire tuple\n",
    "print(t1)\n",
    "\n",
    "# tuple of strings\n",
    "t2 = (\"Nifemi\", \"Gina\", \"Marho\")\n",
    "\n",
    "# loop through tuple elememts\n",
    "for s in t2:\n",
    "    print (s)\n",
    "\n",
    "# tuple of mixed type elements\n",
    "t3 = (2, \"Ebube\", 45, \"Jeffery\")\n",
    "\n",
    "print (t3[2])"
   ]
  },
  {
   "cell_type": "code",
   "execution_count": 7,
   "metadata": {},
   "outputs": [
    {
     "name": "stdout",
     "output_type": "stream",
     "text": [
      "[1, 2, 3, 4, 5]\n",
      "Mouse\n",
      "Keyboard\n",
      "Monitor\n",
      "Element at index 3 is: Python Programming\n"
     ]
    }
   ],
   "source": [
    "# Python Data Type - List\n",
    "\n",
    "#list of integers\n",
    "lis1 = [1, 2, 3, 4, 5]\n",
    "\n",
    "#prints entire list\n",
    "print(lis1)\n",
    "\n",
    "# list of strings\n",
    "lis2 = [\"Mouse\", \"Keyboard\", \"Monitor\"]\n",
    "\n",
    "# loop through list elements\n",
    "for x in lis2:\n",
    "    print (x)\n",
    "    \n",
    "# list of mixed type elememts\n",
    "lis3 = [20, \"CSC101\", 15, \"Python Programming\"]\n",
    "\n",
    "print (\"Element at index 3 is:\", lis3[3])"
   ]
  },
  {
   "cell_type": "code",
   "execution_count": 8,
   "metadata": {},
   "outputs": [
    {
     "name": "stdout",
     "output_type": "stream",
     "text": [
      "Maryam\n",
      "Shefiu\n",
      "25\n"
     ]
    }
   ],
   "source": [
    "# Python Data Type - Dictionary\n",
    "\n",
    "# Dictionary example\n",
    "dict = {1:\"Maryam\",\"lastname\":\"Shefiu\",\"age\":25}\n",
    "\n",
    "# prints the value where key value is 1\n",
    "print(dict[1])\n",
    "\n",
    "# prints the value where key value is \"lastname\"\n",
    "print(dict[\"lastname\"])\n",
    "\n",
    "# prints the value where key value is \"age\"\n",
    "print(dict[\"age\"])"
   ]
  },
  {
   "cell_type": "code",
   "execution_count": 9,
   "metadata": {},
   "outputs": [
    {
     "name": "stdout",
     "output_type": "stream",
     "text": [
      "Kamara\n",
      "Ugochi\n",
      "Joseph\n",
      "Adaobi\n",
      "False\n",
      "{99, 'Joseph', 'Adaobi', 'Kamara', 'Ugochi'}\n"
     ]
    }
   ],
   "source": [
    "# Python Data Type - Set\n",
    "\n",
    "# Set Example\n",
    "myset = {\"Joseph\", \"Adaobi\", \"Kamara\", \"Ugochi\"}\n",
    "\n",
    "# Loop through set\n",
    "for a in myset:\n",
    "    print (a)\n",
    "    \n",
    "# checking whether 2 exists in myset\n",
    "print(2 in myset)\n",
    "\n",
    "# adding new element \n",
    "myset.add (99)\n",
    "print(myset)"
   ]
  },
  {
   "cell_type": "code",
   "execution_count": 11,
   "metadata": {},
   "outputs": [
    {
     "name": "stdout",
     "output_type": "stream",
     "text": [
      "Amount is 1020.0\n",
      "Simple Interest is 20.0\n"
     ]
    }
   ],
   "source": [
    "# Simple Interest Problem\n",
    "\n",
    "P = 1000\n",
    "R = 1\n",
    "T = 2\n",
    "\n",
    "#simple interest\n",
    "A = (P * (1 + ((R / 100.0 * T))))\n",
    "print (\"Amount is\", A)\n",
    "SI = A - P\n",
    "print (\"Simple Interest is\", SI)"
   ]
  },
  {
   "cell_type": "code",
   "execution_count": 12,
   "metadata": {},
   "outputs": [
    {
     "name": "stdout",
     "output_type": "stream",
     "text": [
      "The solutions are (-3+0j) (-2+0j)\n"
     ]
    }
   ],
   "source": [
    "# Solve the quadratic equation ax**2 + bx + c = 0\n",
    "\n",
    "# import complex math module\n",
    "import cmath\n",
    "\n",
    "a = 1\n",
    "b = 5\n",
    "c = 6\n",
    "\n",
    "# calculate the discriminant\n",
    "d = (b**2) - (4*a*c)\n",
    "\n",
    "#find two solutions\n",
    "sol1 = (-b-cmath.sqrt(d))/(2*a)\n",
    "sol2 = (-b+cmath.sqrt(d))/(2*a)\n",
    "\n",
    "print('The solutions are', sol1, sol2)"
   ]
  },
  {
   "cell_type": "code",
   "execution_count": 13,
   "metadata": {},
   "outputs": [
    {
     "name": "stdout",
     "output_type": "stream",
     "text": [
      "Enter first side: 5\n",
      "Enter second side: 6\n",
      "Enter third side: 7\n",
      "The area of the triangle is 14.70\n"
     ]
    }
   ],
   "source": [
    "# Python Program to find the area of a triangle\n",
    "\n",
    "# Take inputs from the user\n",
    "a = float(input('Enter first side: '))\n",
    "b = float(input('Enter second side: '))\n",
    "c = float(input('Enter third side: '))\n",
    "\n",
    "# calculate the semi-perimeter\n",
    "s = (a + b + c) / 2\n",
    "\n",
    "# calculate the area\n",
    "area = (s*(s-a)*(s-b)*(s-c)) ** 0.5\n",
    "print ('The area of the triangle is %0.2f' %area)"
   ]
  }
 ],
 "metadata": {
  "kernelspec": {
   "display_name": "Python 3",
   "language": "python",
   "name": "python3"
  },
  "language_info": {
   "codemirror_mode": {
    "name": "ipython",
    "version": 3
   },
   "file_extension": ".py",
   "mimetype": "text/x-python",
   "name": "python",
   "nbconvert_exporter": "python",
   "pygments_lexer": "ipython3",
   "version": "3.8.5"
  }
 },
 "nbformat": 4,
 "nbformat_minor": 4
}
